{
 "cells": [
  {
   "cell_type": "code",
   "execution_count": 2,
   "id": "867f8815",
   "metadata": {},
   "outputs": [],
   "source": [
    "import os\n",
    "\n",
    "from azure.core.credentials import AzureKeyCredential\n",
    "from azure.search.documents import SearchClient\n",
    "from azure.search.documents.indexes import SearchIndexClient\n",
    "from azure.search.documents.models import VectorizedQuery\n",
    "from azure.search.documents.indexes.models import (\n",
    "        SearchIndex,\n",
    "        SearchField,\n",
    "        SearchFieldDataType,\n",
    "        SimpleField,\n",
    "        SearchableField,\n",
    "        VectorSearch,\n",
    "        VectorSearchProfile,\n",
    "        HnswAlgorithmConfiguration,\n",
    "    )\n",
    "from azure.core.exceptions import ResourceNotFoundError\n"
   ]
  },
  {
   "cell_type": "code",
   "execution_count": null,
   "id": "1ccbd207",
   "metadata": {},
   "outputs": [],
   "source": []
  },
  {
   "cell_type": "code",
   "execution_count": 4,
   "id": "6ef50119",
   "metadata": {},
   "outputs": [],
   "source": [
    "def get_all_search_indexes():\n",
    "    # Create a SearchIndexClient\n",
    "    credential = AzureKeyCredential(key)\n",
    "    index_client = SearchIndexClient(service_endpoint, credential)\n",
    "    \n",
    "    # Get all indexes\n",
    "    indexes = list(index_client.list_indexes())\n",
    "\n",
    "    final_indexes = [index.name for index in indexes]\n",
    "        \n",
    "    return final_indexes"
   ]
  },
  {
   "cell_type": "code",
   "execution_count": 5,
   "id": "013463d5",
   "metadata": {},
   "outputs": [
    {
     "name": "stdout",
     "output_type": "stream",
     "text": [
      "Retrieving all indexes...\n",
      "['defect-data', 'defects-index', 'defects', 'genai', 'genai1234', 'genai12345', 'hotel-index', 'hotels-sample-index', 'hotels-vector-index', 'new_defects', 'teeenytinyindex']\n"
     ]
    }
   ],
   "source": [
    "print(\"Retrieving all indexes...\")\n",
    "# get all indexes\n",
    "all_indexes = get_all_search_indexes()\n",
    "print(all_indexes)"
   ]
  },
  {
   "cell_type": "code",
   "execution_count": 6,
   "id": "f1b67549",
   "metadata": {},
   "outputs": [],
   "source": [
    "def get_bug_index(name: str):\n",
    "    fields = [\n",
    "        SimpleField(name=\"ID\", type=SearchFieldDataType.String, key=True),\n",
    "        SearchableField(name=\"Work_Item_Type\", type=SearchFieldDataType.String, filterable=True, facetable=True),\n",
    "        SearchableField(name=\"State\", type=SearchFieldDataType.String, filterable=True, facetable=True),\n",
    "        SearchableField(name=\"Area\", type=SearchFieldDataType.String, filterable=True),\n",
    "        SearchField(\n",
    "            name=\"TitleVector\",\n",
    "            type=SearchFieldDataType.Collection(SearchFieldDataType.Single),\n",
    "            searchable=True,\n",
    "            vector_search_dimensions=1536,\n",
    "             vector_search_profile_name=\"my-vector-config\",\n",
    "    ),\n",
    "\n",
    "        SearchableField(name=\"Title\", type=SearchFieldDataType.String),\n",
    "        SearchableField(name=\"Description\", type=SearchFieldDataType.String),\n",
    "        SearchableField(name=\"Repro_Steps\", type=SearchFieldDataType.String),\n",
    "        SearchableField(name=\"Created_Date\", type=SearchFieldDataType.String, sortable=True),\n",
    "        SearchableField(name=\"Created_By\", type=SearchFieldDataType.String),\n",
    "        SearchableField(name=\"Assigned_To\", type=SearchFieldDataType.String),\n",
    "        SearchableField(name=\"Iteration_Path\", type=SearchFieldDataType.String),\n",
    "        SearchableField(name=\"Severity\", type=SearchFieldDataType.String, filterable=True, facetable=True),\n",
    "        SearchableField(name=\"Priority\", type=SearchFieldDataType.Double),\n",
    "        SearchableField(name=\"Efforts\", type=SearchFieldDataType.String),\n",
    "        SearchableField(name=\"Comment\", type=SearchFieldDataType.String),\n",
    "        SearchableField(name=\"Closed_By\", type=SearchFieldDataType.String),\n",
    "        SearchableField(name=\"Closed_Date\", type=SearchFieldDataType.String),\n",
    "        SearchableField(name=\"Closing_Comment\", type=SearchFieldDataType.String),\n",
    "        SearchableField(name=\"Reason\", type=SearchFieldDataType.String),\n",
    "        SearchableField(name=\"Story_Points\", type=SearchFieldDataType.String),\n",
    "        SearchableField(name=\"Parent_Feature_Id\", type=SearchFieldDataType.String),\n",
    "        SearchableField(name=\"Parent_Feature_Title\", type=SearchFieldDataType.String),\n",
    " ]\n",
    "\n",
    "    vector_search = VectorSearch(\n",
    "        profiles=[VectorSearchProfile(name=\"my-vector-config\", algorithm_configuration_name=\"my-algorithms-config\")],\n",
    "        algorithms=[HnswAlgorithmConfiguration(name=\"my-algorithms-config\")],\n",
    " )\n",
    "\n",
    "    return SearchIndex(name=name, fields=fields, vector_search=vector_search)\n"
   ]
  },
  {
   "cell_type": "code",
   "execution_count": 7,
   "id": "9c37d22b",
   "metadata": {},
   "outputs": [
    {
     "name": "stdout",
     "output_type": "stream",
     "text": [
      "<class 'azure.search.documents.indexes.models._index.SearchIndex'>\n",
      "Creating the index if it does not exist\n",
      "Index 'new_defects' already exists.\n",
      "Index new_defects created successfully.\n"
     ]
    }
   ],
   "source": [
    "credential = AzureKeyCredential(key)\n",
    "index_client = SearchIndexClient(service_endpoint, credential)\n",
    "index = get_bug_index(index_name)\n",
    "print(type(index))\n",
    "\n",
    "print(\"Creating the index if it does not exist\")\n",
    "try:\n",
    "    index_client.get_index(index.name)\n",
    "    print(f\"Index '{index.name}' already exists.\")\n",
    "except ResourceNotFoundError:\n",
    "    index_client.create_index(index)\n",
    "    print(f\"Index '{index.name}' created successfully.\")\n",
    "\n",
    "\n",
    "print(f\"Index {index.name} created successfully.\")\n"
   ]
  },
  {
   "cell_type": "code",
   "execution_count": 8,
   "id": "aa7c56ea",
   "metadata": {},
   "outputs": [],
   "source": [
    "index_client.delete_index(index_name)\n"
   ]
  },
  {
   "cell_type": "code",
   "execution_count": 9,
   "id": "44782845",
   "metadata": {},
   "outputs": [
    {
     "name": "stdout",
     "output_type": "stream",
     "text": [
      "creating a new one\n"
     ]
    }
   ],
   "source": [
    "index = get_bug_index(index_name)\n",
    "try:\n",
    "    index_client.get_index(index.name)\n",
    "except ResourceNotFoundError:\n",
    "    print(\"creating a new one\")\n",
    "    index_client.create_index(index)\n",
    "\n"
   ]
  },
  {
   "cell_type": "code",
   "execution_count": 10,
   "id": "6190d10c",
   "metadata": {},
   "outputs": [],
   "source": [
    "def get_existing_index_fields(index_name):\n",
    "    \"\"\"\n",
    "    Get the existing index schema to understand current field structure\n",
    "    \"\"\"\n",
    "    try:\n",
    "        credential = AzureKeyCredential(key)\n",
    "        index_client = SearchIndexClient(service_endpoint, credential)\n",
    "        existing_index = index_client.get_index(index_name)\n",
    "        \n",
    "        print(f\"Existing index '{index_name}' fields:\")\n",
    "        for field in index.fields:\n",
    "            print(f\"Name: {field.name}, Type: {field.type}, Key: {field.key}, Searchable: {field.searchable}, Filterable: {field.filterable}\")\n",
    "\n",
    "        \n",
    "        return existing_index\n",
    "    except Exception as e:\n",
    "        print(f\"Error getting existing index: {e}\")\n",
    "        return None"
   ]
  },
  {
   "cell_type": "code",
   "execution_count": 11,
   "id": "74ad67ea",
   "metadata": {},
   "outputs": [
    {
     "name": "stdout",
     "output_type": "stream",
     "text": [
      "Existing index 'new_defects' fields:\n",
      "Name: ID, Type: Edm.String, Key: True, Searchable: False, Filterable: False\n",
      "Name: Work_Item_Type, Type: Edm.String, Key: False, Searchable: True, Filterable: True\n",
      "Name: State, Type: Edm.String, Key: False, Searchable: True, Filterable: True\n",
      "Name: Area, Type: Edm.String, Key: False, Searchable: True, Filterable: True\n",
      "Name: TitleVector, Type: Collection(Edm.Single), Key: None, Searchable: True, Filterable: None\n",
      "Name: Title, Type: Edm.String, Key: False, Searchable: True, Filterable: False\n",
      "Name: Description, Type: Edm.String, Key: False, Searchable: True, Filterable: False\n",
      "Name: Repro_Steps, Type: Edm.String, Key: False, Searchable: True, Filterable: False\n",
      "Name: Created_Date, Type: Edm.String, Key: False, Searchable: True, Filterable: False\n",
      "Name: Created_By, Type: Edm.String, Key: False, Searchable: True, Filterable: False\n",
      "Name: Assigned_To, Type: Edm.String, Key: False, Searchable: True, Filterable: False\n",
      "Name: Iteration_Path, Type: Edm.String, Key: False, Searchable: True, Filterable: False\n",
      "Name: Severity, Type: Edm.String, Key: False, Searchable: True, Filterable: True\n",
      "Name: Priority, Type: Edm.String, Key: False, Searchable: True, Filterable: False\n",
      "Name: Efforts, Type: Edm.String, Key: False, Searchable: True, Filterable: False\n",
      "Name: Comment, Type: Edm.String, Key: False, Searchable: True, Filterable: False\n",
      "Name: Closed_By, Type: Edm.String, Key: False, Searchable: True, Filterable: False\n",
      "Name: Closed_Date, Type: Edm.String, Key: False, Searchable: True, Filterable: False\n",
      "Name: Closing_Comment, Type: Edm.String, Key: False, Searchable: True, Filterable: False\n",
      "Name: Reason, Type: Edm.String, Key: False, Searchable: True, Filterable: False\n",
      "Name: Story_Points, Type: Edm.String, Key: False, Searchable: True, Filterable: False\n",
      "Name: Parent_Feature_Id, Type: Edm.String, Key: False, Searchable: True, Filterable: False\n",
      "Name: Parent_Feature_Title, Type: Edm.String, Key: False, Searchable: True, Filterable: False\n"
     ]
    },
    {
     "data": {
      "text/plain": [
       "<azure.search.documents.indexes.models._index.SearchIndex at 0x7bdf7ff1ad40>"
      ]
     },
     "execution_count": 11,
     "metadata": {},
     "output_type": "execute_result"
    }
   ],
   "source": [
    "get_existing_index_fields(index_name)"
   ]
  },
  {
   "cell_type": "code",
   "execution_count": null,
   "id": "bac845e5",
   "metadata": {},
   "outputs": [],
   "source": [
    "def get_embeddings(text: str):\n",
    "    \"\"\"\n",
    "    Generate embeddings for the given text using Azure OpenAI\n",
    "    \"\"\"\n",
    "    import openai\n",
    "\n",
    "\n",
    "    # Handle None or empty text\n",
    "    if not text or text.strip() == \"\":\n",
    "        text = \"No title provided\"\n",
    "\n",
    "    response = openai.Embedding.create(input=text, engine=\"text-embedding-ada-002\")\n",
    "    return response.data[0].embedding"
   ]
  },
  {
   "cell_type": "code",
   "execution_count": 13,
   "id": "fad87a26",
   "metadata": {},
   "outputs": [],
   "source": [
    "def get_defect_documents():\n",
    "    \"\"\"\n",
    "    Prepare defect data for indexing with proper field name mapping\n",
    "    \"\"\"\n",
    "    data = [\n",
    "        {\n",
    "            \"Work Item Type\": \"Bug\",\n",
    "            \"ID\": 897,\n",
    "            \"State\": \"Closed\",\n",
    "            \"Area\": \"Gen AI QEP 2.0\\\\Create - Existing Solution Enhancements\",\n",
    "            \"Title\": \"When a solution is created on a name which is already existing, the sysyem should give an api error alert. \",\n",
    "            \"Description\": None,\n",
    "            \"Repro Steps\": \"<div><span style=\\\"display:inline !important;\\\">When a user creates a solution by a duplicate name, there should be an alert message &quot;Solution already exists&quot;.</span><br> </div>\",\n",
    "            \"Created Date\": \"11/27/2023 5:43:52 PM\",\n",
    "            \"Created By\": None,\n",
    "            \"Assigned To\": None,\n",
    "            \"Iteration Path\": \"Gen AI QEP 2.0\\\\PI-2.1\",\n",
    "            \"Severity\": \"3 - Medium\",\n",
    "            \"Priority\": 2.0,\n",
    "            \"Efforts\": None,\n",
    "            \"Comment\": None,\n",
    "            \"Closed By\": \"Siva Reddy Dirisanapu <siva-reddy.dirisanapu@capgemini.com>\",\n",
    "            \"Closed Date\": \"2023-01-12T16:25:11\",\n",
    "            \"Closing Comment\": None,\n",
    "            \"Reason\": \"Fixed and verified\",\n",
    "            \"Story Points\": None,\n",
    "            \"Parent Feature Id\": 555.0,\n",
    "            \"Parent Feature Title\": None\n",
    "        }\n",
    "    ]\n",
    "\n",
    "    # Transform data to match existing index structure\n",
    "    transformed_data = []\n",
    "    for i, item in enumerate(data):\n",
    "        transformed_item = {\n",
    "            \"ID\": str(item[\"ID\"]),\n",
    "            \"Work_Item_Type\": item[\"Work Item Type\"],\n",
    "            \"State\": item[\"State\"],\n",
    "            \"Area\": item[\"Area\"],\n",
    "            \"Title\": item[\"Title\"],\n",
    "            \"Description\": item[\"Description\"] or \"No description provided\",\n",
    "            \"Repro_Steps\": item[\"Repro Steps\"],\n",
    "            \"Created_Date\": item[\"Created Date\"],\n",
    "            \"Created_By\": item[\"Created By\"],\n",
    "            \"Assigned_To\": item[\"Assigned To\"],\n",
    "            \"Iteration_Path\": item[\"Iteration Path\"],\n",
    "            \"Severity\": item[\"Severity\"],\n",
    "            \"Priority\": str(item[\"Priority\"]),\n",
    "            \"Efforts\": item[\"Efforts\"],\n",
    "            \"Comment\": item[\"Comment\"],\n",
    "            \"Closed_By\": item[\"Closed By\"],\n",
    "            \"Closed_Date\": item[\"Closed Date\"],\n",
    "            \"Closing_Comment\": item[\"Closing Comment\"],\n",
    "            \"Reason\": item[\"Reason\"],\n",
    "            \"Story_Points\": item[\"Story Points\"],\n",
    "            \"Parent_Feature_Id\": str(item[\"Parent Feature Id\"]),\n",
    "            \"Parent_Feature_Title\": item[\"Parent Feature Title\"],\n",
    "            \"TitleVector\": get_embeddings(item[\"Title\"])  # Use existing vector field\n",
    "        }\n",
    "        transformed_data.append(transformed_item)\n",
    "\n",
    "    return transformed_data"
   ]
  },
  {
   "cell_type": "code",
   "execution_count": 1,
   "id": "8c3b5778",
   "metadata": {},
   "outputs": [
    {
     "ename": "NameError",
     "evalue": "name 'service_endpoint' is not defined",
     "output_type": "error",
     "traceback": [
      "\u001b[0;31m---------------------------------------------------------------------------\u001b[0m",
      "\u001b[0;31mNameError\u001b[0m                                 Traceback (most recent call last)",
      "\u001b[0;32m/tmp/ipykernel_8623/988004652.py\u001b[0m in \u001b[0;36m<module>\u001b[0;34m\u001b[0m\n\u001b[1;32m      1\u001b[0m \u001b[0;31m# Create a SearchClient to interact with the index\u001b[0m\u001b[0;34m\u001b[0m\u001b[0;34m\u001b[0m\u001b[0m\n\u001b[0;32m----> 2\u001b[0;31m \u001b[0mprint\u001b[0m\u001b[0;34m(\u001b[0m\u001b[0mservice_endpoint\u001b[0m\u001b[0;34m)\u001b[0m\u001b[0;34m\u001b[0m\u001b[0;34m\u001b[0m\u001b[0m\n\u001b[0m\u001b[1;32m      3\u001b[0m \u001b[0mprint\u001b[0m\u001b[0;34m(\u001b[0m\u001b[0mindex_name\u001b[0m\u001b[0;34m)\u001b[0m\u001b[0;34m\u001b[0m\u001b[0;34m\u001b[0m\u001b[0m\n\u001b[1;32m      4\u001b[0m \u001b[0mclient\u001b[0m \u001b[0;34m=\u001b[0m \u001b[0mSearchClient\u001b[0m\u001b[0;34m(\u001b[0m\u001b[0mservice_endpoint\u001b[0m\u001b[0;34m,\u001b[0m \u001b[0mindex_name\u001b[0m\u001b[0;34m,\u001b[0m \u001b[0mcredential\u001b[0m\u001b[0;34m)\u001b[0m\u001b[0;34m\u001b[0m\u001b[0;34m\u001b[0m\u001b[0m\n\u001b[1;32m      5\u001b[0m \u001b[0mdefect_docs\u001b[0m \u001b[0;34m=\u001b[0m \u001b[0mget_defect_documents\u001b[0m\u001b[0;34m(\u001b[0m\u001b[0;34m)\u001b[0m\u001b[0;34m\u001b[0m\u001b[0;34m\u001b[0m\u001b[0m\n",
      "\u001b[0;31mNameError\u001b[0m: name 'service_endpoint' is not defined"
     ]
    }
   ],
   "source": [
    "# Create a SearchClient to interact with the index\n",
    "print(service_endpoint)\n",
    "print(index_name)\n",
    "client = SearchClient(service_endpoint, index_name, credential)\n",
    "defect_docs = get_defect_documents()\n",
    "print(defect_docs)\n",
    "print(\"Uploading defect documents to the index...\")\n",
    "# create embeddings\n",
    "client.upload_documents(documents=defect_docs)\n",
    "\n",
    "print(\"defects documents uploaded successfully.\")"
   ]
  },
  {
   "cell_type": "code",
   "execution_count": 15,
   "id": "58626f43",
   "metadata": {},
   "outputs": [],
   "source": [
    "def get_all_defect_documents():\n",
    "    \"\"\"\n",
    "    Retrieves all defect documents from the Azure Cognitive Search index.\n",
    "    \"\"\"\n",
    "\n",
    "    print(f\"key is ........{key}\")\n",
    "    print(f\"service_endpoint is ........{service_endpoint}\")\n",
    "    try:\n",
    "        credential = AzureKeyCredential(key)\n",
    "        search_client = SearchClient(service_endpoint, index_name, credential)\n",
    "\n",
    "        # search_text=\"*\" matches all documents\n",
    "        results = search_client.search(\n",
    "            search_text=\"*\",\n",
    "            select=[\"ID\", \"Title\", \"Description\", \"Severity\", \"State\", \"Work_Item_Type\"],\n",
    "            top=1000\n",
    "        )\n",
    "\n",
    "        documents = list(results)\n",
    "\n",
    "        print(f\"Retrieved {len(documents)} defect document(s).\")\n",
    "        for doc in documents:\n",
    "            print(f\"  - ID: {doc['ID']}, Title: {doc.get('Title', 'N/A')}, Severity: {doc.get('Severity', 'N/A')}, State: {doc.get('State', 'N/A')}\")\n",
    "\n",
    "        return documents\n",
    "\n",
    "    except Exception as ex:\n",
    "        print(f\"Error retrieving defect documents: {ex}\")\n",
    "        raise"
   ]
  },
  {
   "cell_type": "code",
   "execution_count": 17,
   "id": "accc92e0",
   "metadata": {},
   "outputs": [],
   "source": [
    "def get_defect_documents_by_id(document_ids):\n",
    "    \"\"\"\n",
    "    Retrieves defect documents by ID\n",
    "    \"\"\"\n",
    "    try:\n",
    "        credential = AzureKeyCredential(key)\n",
    "        search_client = SearchClient(service_endpoint, index_name, credential)\n",
    "\n",
    "        documents = []\n",
    "        for doc_id in document_ids:\n",
    "            try:\n",
    "                doc = search_client.get_document(key=str(doc_id))\n",
    "                documents.append(doc)\n",
    "                print(f\"  - ID: {doc['ID']}, Title: {doc.get('Title', 'N/A')}, Severity: {doc.get('Severity', 'N/A')}\")\n",
    "            except Exception as e:\n",
    "                print(f\"  - Could not find defect document with ID {doc_id}: {e}\")\n",
    "\n",
    "        return documents\n",
    "\n",
    "    except Exception as ex:\n",
    "        print(f\"Error: {ex}\")\n",
    "        raise\n"
   ]
  },
  {
   "cell_type": "code",
   "execution_count": 20,
   "id": "abc87d29",
   "metadata": {},
   "outputs": [
    {
     "name": "stdout",
     "output_type": "stream",
     "text": [
      "  - ID: 897, Title: When a solution is created on a name which is already existing, the sysyem should give an api error alert. , Severity: 3 - Medium\n"
     ]
    },
    {
     "data": {
      "text/plain": [
       "[{'ID': '897',\n",
       "  'Work_Item_Type': 'Bug',\n",
       "  'State': 'Closed',\n",
       "  'Area': 'Gen AI QEP 2.0\\\\Create - Existing Solution Enhancements',\n",
       "  'Title': 'When a solution is created on a name which is already existing, the sysyem should give an api error alert. ',\n",
       "  'Description': 'No description provided',\n",
       "  'Repro_Steps': '<div><span style=\"display:inline !important;\">When a user creates a solution by a duplicate name, there should be an alert message &quot;Solution already exists&quot;.</span><br> </div>',\n",
       "  'Created_Date': '11/27/2023 5:43:52 PM',\n",
       "  'Created_By': None,\n",
       "  'Assigned_To': None,\n",
       "  'Iteration_Path': 'Gen AI QEP 2.0\\\\PI-2.1',\n",
       "  'Severity': '3 - Medium',\n",
       "  'Priority': '2.0',\n",
       "  'Efforts': None,\n",
       "  'Comment': None,\n",
       "  'Closed_By': 'Siva Reddy Dirisanapu <siva-reddy.dirisanapu@capgemini.com>',\n",
       "  'Closed_Date': '2023-01-12T16:25:11',\n",
       "  'Closing_Comment': None,\n",
       "  'Reason': 'Fixed and verified',\n",
       "  'Story_Points': None,\n",
       "  'Parent_Feature_Id': '555.0',\n",
       "  'Parent_Feature_Title': None}]"
      ]
     },
     "execution_count": 20,
     "metadata": {},
     "output_type": "execute_result"
    }
   ],
   "source": [
    "get_defect_documents_by_id([\"897\"])"
   ]
  },
  {
   "cell_type": "code",
   "execution_count": 25,
   "id": "5e65bf2b",
   "metadata": {},
   "outputs": [],
   "source": [
    "def single_vector_search_defects(query):\n",
    "    \"\"\"\n",
    "    Perform vector search on defect titles\n",
    "    \"\"\"\n",
    "    search_client = SearchClient(service_endpoint, index_name, AzureKeyCredential(key))\n",
    "    vector_query = VectorizedQuery(\n",
    "        vector=get_embeddings(query), \n",
    "        k_nearest_neighbors=5, \n",
    "        fields=\"TitleVector\"  # Use existing vector field\n",
    "    )\n",
    "\n",
    "    results = search_client.search(\n",
    "        vector_queries=[vector_query],\n",
    "        select=[\"ID\", \"Title\", \"Description\", \"Severity\", \"State\"],\n",
    "    )\n",
    "\n",
    "    print(f\"Vector search results for query: '{query}'\")\n",
    "    for result in results:\n",
    "        print(f\"  - ID: {result.get('ID', 'N/A')}, Title: {result.get('Title', 'N/A')}, Score: {result.get('@search.score', 'N/A')}\")\n",
    "\n",
    "    return list(results)"
   ]
  },
  {
   "cell_type": "code",
   "execution_count": 26,
   "id": "aaf7a771",
   "metadata": {},
   "outputs": [
    {
     "name": "stdout",
     "output_type": "stream",
     "text": [
      "Vector search results for query: 'API error alert'\n",
      "  - ID: 897, Title: When a solution is created on a name which is already existing, the sysyem should give an api error alert. , Score: 0.8666446\n"
     ]
    },
    {
     "data": {
      "text/plain": [
       "[]"
      ]
     },
     "execution_count": 26,
     "metadata": {},
     "output_type": "execute_result"
    }
   ],
   "source": [
    "single_vector_search_defects(query = \"API error alert\")"
   ]
  },
  {
   "cell_type": "code",
   "execution_count": 30,
   "id": "4247203c",
   "metadata": {},
   "outputs": [],
   "source": [
    "def single_vector_search_with_filter_defects(query=\"API error\", severity_filter=\"3 - Medium\"):\n",
    "    \"\"\"\n",
    "    Perform vector search with severity filter\n",
    "    \"\"\"\n",
    "    search_client = SearchClient(service_endpoint, index_name, AzureKeyCredential(key))\n",
    "    vector_query = VectorizedQuery(\n",
    "        vector=get_embeddings(query),\n",
    "        k_nearest_neighbors=5,\n",
    "        fields=\"TitleVector\"  # Use existing vector field\n",
    "    )\n",
    "\n",
    "    results = search_client.search(\n",
    "        search_text=query,\n",
    "        vector_queries=[vector_query],\n",
    "        filter=f\"Severity eq '{severity_filter}'\",\n",
    "        select=[ \"ID\", \"Title\", \"Severity\", \"State\"],\n",
    "        top=5\n",
    "    )\n",
    "\n",
    "    print(f\"Filtered vector search results for query: '{query}' with severity: '{severity_filter}'\")\n",
    "    for result in results:\n",
    "        print(f\"  - ID: {result.get('ID', 'N/A')}, Title: {result.get('Title', 'N/A')}, Severity: {result.get('Severity', 'N/A')}\")\n",
    "\n",
    "    return list(results)"
   ]
  },
  {
   "cell_type": "code",
   "execution_count": 31,
   "id": "2b53d4b6",
   "metadata": {},
   "outputs": [
    {
     "name": "stdout",
     "output_type": "stream",
     "text": [
      "Filtered vector search results for query: 'API error' with severity: '3 - Medium'\n",
      "  - ID: 897, Title: When a solution is created on a name which is already existing, the sysyem should give an api error alert. , Severity: 3 - Medium\n"
     ]
    },
    {
     "data": {
      "text/plain": [
       "[]"
      ]
     },
     "execution_count": 31,
     "metadata": {},
     "output_type": "execute_result"
    }
   ],
   "source": [
    "single_vector_search_with_filter_defects()"
   ]
  },
  {
   "cell_type": "code",
   "execution_count": 37,
   "id": "619c3b99",
   "metadata": {},
   "outputs": [],
   "source": [
    "def multi_query_hybrid_search_defects(queries):\n",
    "    \"\"\"\n",
    "    Perform hybrid search for multiple defect-related queries\n",
    "    \"\"\"\n",
    "    search_client = SearchClient(service_endpoint, index_name, AzureKeyCredential(key))\n",
    "    \n",
    "    all_results = []\n",
    "    \n",
    "    for query in queries:\n",
    "        vector_query = VectorizedQuery(\n",
    "            vector=get_embeddings(query), \n",
    "            k_nearest_neighbors=3, \n",
    "            fields=\"TitleVector\"  # Use existing vector field\n",
    "        )\n",
    "        \n",
    "        results = search_client.search(\n",
    "            search_text=query,\n",
    "            vector_queries=[vector_query],\n",
    "            select=[\"ID\", \"Title\", \"Severity\", \"State\"],\n",
    "            top=3\n",
    "        )\n",
    "        \n",
    "        query_results = list(results)\n",
    "        all_results.append({\n",
    "            \"query\": query,\n",
    "            \"results\": query_results\n",
    "        })\n",
    "        \n",
    "        print(f\"Results for defect query: '{query}'\")\n",
    "        for result in query_results:\n",
    "            print(f\"  - ID: {result.get('ID', 'N/A')}, Title: {result.get('Title', 'N/A')}, Severity: {result.get('Severity', 'N/A')}\")\n",
    "        print(\"---\")\n",
    "    \n",
    "    return all_results"
   ]
  },
  {
   "cell_type": "code",
   "execution_count": 38,
   "id": "4d2b11a4",
   "metadata": {},
   "outputs": [
    {
     "name": "stdout",
     "output_type": "stream",
     "text": [
      "Results for defect query: 'What happens if a solution is created with a duplicate name?'\n",
      "  - ID: 897, Title: When a solution is created on a name which is already existing, the sysyem should give an api error alert. , Severity: 3 - Medium\n",
      "---\n",
      "Results for defect query: 'Is there an alert when trying to create an existing solution?'\n",
      "  - ID: 897, Title: When a solution is created on a name which is already existing, the sysyem should give an api error alert. , Severity: 3 - Medium\n",
      "---\n",
      "Results for defect query: 'Defect related to duplicate solution creation in Gen AI QEP 2.0 PI-2.1'\n",
      "  - ID: 897, Title: When a solution is created on a name which is already existing, the sysyem should give an api error alert. , Severity: 3 - Medium\n",
      "---\n",
      "Results for defect query: 'System behavior when solution name already exists'\n",
      "  - ID: 897, Title: When a solution is created on a name which is already existing, the sysyem should give an api error alert. , Severity: 3 - Medium\n",
      "---\n",
      "Results for defect query: 'Missing API error for duplicate solution creation'\n",
      "  - ID: 897, Title: When a solution is created on a name which is already existing, the sysyem should give an api error alert. , Severity: 3 - Medium\n",
      "---\n",
      "Results for defect query: 'Closed bugs with medium severity and fixed status in Gen AI QEP'\n",
      "  - ID: 897, Title: When a solution is created on a name which is already existing, the sysyem should give an api error alert. , Severity: 3 - Medium\n",
      "---\n"
     ]
    },
    {
     "data": {
      "text/plain": [
       "[{'query': 'What happens if a solution is created with a duplicate name?',\n",
       "  'results': [{'Severity': '3 - Medium',\n",
       "    'ID': '897',\n",
       "    'State': 'Closed',\n",
       "    'Title': 'When a solution is created on a name which is already existing, the sysyem should give an api error alert. ',\n",
       "    '@search.score': 0.03333333507180214,\n",
       "    '@search.reranker_score': None,\n",
       "    '@search.highlights': None,\n",
       "    '@search.captions': None,\n",
       "    '@search.document_debug_info': None}]},\n",
       " {'query': 'Is there an alert when trying to create an existing solution?',\n",
       "  'results': [{'Severity': '3 - Medium',\n",
       "    'ID': '897',\n",
       "    'State': 'Closed',\n",
       "    'Title': 'When a solution is created on a name which is already existing, the sysyem should give an api error alert. ',\n",
       "    '@search.score': 0.03333333507180214,\n",
       "    '@search.reranker_score': None,\n",
       "    '@search.highlights': None,\n",
       "    '@search.captions': None,\n",
       "    '@search.document_debug_info': None}]},\n",
       " {'query': 'Defect related to duplicate solution creation in Gen AI QEP 2.0 PI-2.1',\n",
       "  'results': [{'Severity': '3 - Medium',\n",
       "    'ID': '897',\n",
       "    'State': 'Closed',\n",
       "    'Title': 'When a solution is created on a name which is already existing, the sysyem should give an api error alert. ',\n",
       "    '@search.score': 0.03333333507180214,\n",
       "    '@search.reranker_score': None,\n",
       "    '@search.highlights': None,\n",
       "    '@search.captions': None,\n",
       "    '@search.document_debug_info': None}]},\n",
       " {'query': 'System behavior when solution name already exists',\n",
       "  'results': [{'Severity': '3 - Medium',\n",
       "    'ID': '897',\n",
       "    'State': 'Closed',\n",
       "    'Title': 'When a solution is created on a name which is already existing, the sysyem should give an api error alert. ',\n",
       "    '@search.score': 0.03333333507180214,\n",
       "    '@search.reranker_score': None,\n",
       "    '@search.highlights': None,\n",
       "    '@search.captions': None,\n",
       "    '@search.document_debug_info': None}]},\n",
       " {'query': 'Missing API error for duplicate solution creation',\n",
       "  'results': [{'Severity': '3 - Medium',\n",
       "    'ID': '897',\n",
       "    'State': 'Closed',\n",
       "    'Title': 'When a solution is created on a name which is already existing, the sysyem should give an api error alert. ',\n",
       "    '@search.score': 0.03333333507180214,\n",
       "    '@search.reranker_score': None,\n",
       "    '@search.highlights': None,\n",
       "    '@search.captions': None,\n",
       "    '@search.document_debug_info': None}]},\n",
       " {'query': 'Closed bugs with medium severity and fixed status in Gen AI QEP',\n",
       "  'results': [{'Severity': '3 - Medium',\n",
       "    'ID': '897',\n",
       "    'State': 'Closed',\n",
       "    'Title': 'When a solution is created on a name which is already existing, the sysyem should give an api error alert. ',\n",
       "    '@search.score': 0.03333333507180214,\n",
       "    '@search.reranker_score': None,\n",
       "    '@search.highlights': None,\n",
       "    '@search.captions': None,\n",
       "    '@search.document_debug_info': None}]}]"
      ]
     },
     "execution_count": 38,
     "metadata": {},
     "output_type": "execute_result"
    }
   ],
   "source": [
    "multi_query_hybrid_search_defects([\n",
    "    \"What happens if a solution is created with a duplicate name?\",\n",
    "    \"Is there an alert when trying to create an existing solution?\",\n",
    "    \"Defect related to duplicate solution creation in Gen AI QEP 2.0 PI-2.1\",\n",
    "    \"System behavior when solution name already exists\",\n",
    "    \"Missing API error for duplicate solution creation\",\n",
    "    \"Closed bugs with medium severity and fixed status in Gen AI QEP\"\n",
    "])"
   ]
  },
  {
   "cell_type": "code",
   "execution_count": 102,
   "id": "d786aa2b",
   "metadata": {},
   "outputs": [],
   "source": [
    "def delete_defect_document(defect_id):\n",
    "    \"\"\"\n",
    "    Delete a defect document by hotelId (the key field)\n",
    "    \"\"\"\n",
    "    try:\n",
    "        credential = AzureKeyCredential(key)\n",
    "        search_client = SearchClient(service_endpoint, index_name, credential)\n",
    "        \n",
    "        search_client.delete_documents(documents=[{\"hotelId\": str(defect_id)}])\n",
    "        print(f\"Defect document with ID '{defect_id}' deleted.\")\n",
    "        \n",
    "    except Exception as e:\n",
    "        print(f\"Error deleting defect document with ID '{defect_id}': {e}\")"
   ]
  },
  {
   "cell_type": "code",
   "execution_count": 103,
   "id": "642177a7",
   "metadata": {},
   "outputs": [],
   "source": [
    "def delete_index(index_name):\n",
    "    \"\"\"\n",
    "    Delete the entire search index\n",
    "    \"\"\"\n",
    "    credential = AzureKeyCredential(key)\n",
    "    index_client = SearchIndexClient(service_endpoint, credential)\n",
    "\n",
    "    try:\n",
    "        index_client.delete_index(index_name)\n",
    "        print(f\"Index '{index_name}' deleted successfully.\")\n",
    "    except Exception as e:\n",
    "        print(f\"Error deleting index '{index_name}': {e}\")"
   ]
  },
  {
   "cell_type": "code",
   "execution_count": null,
   "id": "9bfb483b",
   "metadata": {},
   "outputs": [],
   "source": []
  },
  {
   "cell_type": "code",
   "execution_count": null,
   "id": "038bdacf",
   "metadata": {},
   "outputs": [],
   "source": []
  },
  {
   "cell_type": "code",
   "execution_count": null,
   "id": "a2667c20",
   "metadata": {},
   "outputs": [],
   "source": []
  },
  {
   "cell_type": "code",
   "execution_count": null,
   "id": "3cd3fc41",
   "metadata": {},
   "outputs": [],
   "source": []
  },
  {
   "cell_type": "code",
   "execution_count": null,
   "id": "e1318ae2",
   "metadata": {},
   "outputs": [],
   "source": []
  },
  {
   "cell_type": "code",
   "execution_count": null,
   "id": "dd13db6b",
   "metadata": {},
   "outputs": [],
   "source": []
  }
 ],
 "metadata": {
  "kernelspec": {
   "display_name": "genai",
   "language": "python",
   "name": "python3"
  },
  "language_info": {
   "codemirror_mode": {
    "name": "ipython",
    "version": 3
   },
   "file_extension": ".py",
   "mimetype": "text/x-python",
   "name": "python",
   "nbconvert_exporter": "python",
   "pygments_lexer": "ipython3",
   "version": "3.10.16"
  }
 },
 "nbformat": 4,
 "nbformat_minor": 5
}
